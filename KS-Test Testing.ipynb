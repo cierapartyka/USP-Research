{
 "cells": [
  {
   "cell_type": "code",
   "execution_count": 58,
   "metadata": {},
   "outputs": [],
   "source": [
    "%matplotlib inline  \n",
    "\n",
    "from matplotlib import pyplot as plt\n",
    "import numpy as np\n",
    "from scipy import stats as sts\n",
    "from scipy.stats import cumfreq\n",
    "import scipy.stats as stats"
   ]
  },
  {
   "cell_type": "code",
   "execution_count": 61,
   "metadata": {},
   "outputs": [
    {
     "name": "stdout",
     "output_type": "stream",
     "text": [
      "[0.08, 0.1, 0.15, 0.17, 0.24, 0.34, 0.38, 0.42, 0.49, 0.5, 0.7, 0.94, 0.95, 1.26, 1.37, 1.55, 1.75, 3.2, 6.98, 50.57]\n",
      "See graph for visual aid.\n"
     ]
    },
    {
     "data": {
      "image/png": "[encoded data removed]",
      "text/plain": [
       "<Figure size 432x288 with 1 Axes>"
      ]
     },
     "metadata": {
      "needs_background": "light"
     },
     "output_type": "display_data"
    }
   ],
   "source": [
    "control_a = [0.22, -.87, -2.39, -1.79, 0.37, -1.54, 1.28, -0.31, -0.74, 1.72, 0.38, -0.17, -0.62, -1.10, 0.30, 0.15, 2.30, 0.19, -0.50, -0.09]\n",
    "control_b = [1.26, 0.34, 0.70, 1.75, 50.57, 1.55, 0.08, 0.42, 0.50, 3.20, 0.15, 0.49, 0.95, 0.24, 1.37, 0.17, 6.98, 0.10, 0.94, 0.38]\n",
    "\n",
    "######### whatever #########\n",
    "controlB = sorted(control_b) #Unecessary for the math, but that's what the paper does. \n",
    "print(controlB)\n",
    "print(\"See graph for visual aid.\")\n",
    "cumulative = np.cumsum(controlB)\n",
    "#ks = scipy.stats.kstest(controlB, \"norm\") ######## Don't need this yet.\n",
    "#print(ks)\n",
    "\n",
    "## Plots the stuff. \n",
    "graph_of_B = plt.hist(np.log10(controlB), bins = 100, cumulative = True, density = True)\n"
   ]
  },
  {
   "cell_type": "code",
   "execution_count": null,
   "metadata": {},
   "outputs": [],
   "source": []
  },
  {
   "cell_type": "code",
   "execution_count": null,
   "metadata": {},
   "outputs": [],
   "source": []
  }
 ],
 "metadata": {
  "kernelspec": {
   "display_name": "Python 3",
   "language": "python",
   "name": "python3"
  },
  "language_info": {
   "codemirror_mode": {
    "name": "ipython",
    "version": 3
   },
   "file_extension": ".py",
   "mimetype": "text/x-python",
   "name": "python",
   "nbconvert_exporter": "python",
   "pygments_lexer": "ipython3",
   "version": "3.7.3"
  }
 },
 "nbformat": 4,
 "nbformat_minor": 2
}
