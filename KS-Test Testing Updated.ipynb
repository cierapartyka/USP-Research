{
 "cells": [
  {
   "cell_type": "code",
   "execution_count": 1,
   "metadata": {},
   "outputs": [],
   "source": [
    "%matplotlib inline  \n",
    "\n",
    "from matplotlib import pyplot as plt\n",
    "import numpy as np\n",
    "import scipy.stats as stats"
   ]
  },
  {
   "cell_type": "code",
   "execution_count": 2,
   "metadata": {},
   "outputs": [],
   "source": [
    "control_a = [0.22, -.87, -2.39, -1.79, 0.37, -1.54, 1.28, -0.31, -0.74, 1.72, 0.38, -0.17, -0.62, -1.10, 0.30, 0.15, 2.30, 0.19, -0.50, -0.09]\n",
    "control_b = [1.26, 0.34, 0.70, 1.75, 50.57, 1.55, 0.08, 0.42, 0.50, 3.20, 0.15, 0.49, 0.95, 0.24, 1.37, 0.17, 6.98, 0.10, 0.94, 0.38]\n",
    "treatment_a = [-5.13, -2.19, -2.43, -3.83, 0.50, -3.25, 4.32, 1.63, 5.18, -0.43, 7.11, 4.87, -3.10, -5.81, 3.76, 6.31, 2.58, 0.07, 5.76, 3.50]\n",
    "treatment_b = [2.37, 2.16, 14.82, 1.73, 41.04, 0.23, 1.32, 2.91, 39.41, 0.11, 27.44, 4.51, 0.51, 4.50, 0.18, 14.68, 4.66, 1.30, 2.06, 1.19]"
   ]
  },
  {
   "cell_type": "code",
   "execution_count": 3,
   "metadata": {},
   "outputs": [],
   "source": [
    "## Honestly, this whole cell is unecessary right now.\n",
    "controlB = sorted(control_b) #Unecessary for the math, but that's what the paper does. \n",
    "cumulative = np.cumsum(controlB) # Don't know what this does right now. \n",
    "#ks = stats.kstest(controlB, \"norm\") ######## Don't need this yet.\n",
    "#print(ks)\n",
    "#from  matplotlib.pyplot import text \n",
    "#text(.025, .5, \"D\", rotation=0, verticalalignment='center')"
   ]
  },
  {
   "cell_type": "code",
   "execution_count": 4,
   "metadata": {},
   "outputs": [
    {
     "name": "stdout",
     "output_type": "stream",
     "text": [
      "[0.08, 0.1, 0.15, 0.17, 0.24, 0.34, 0.38, 0.42, 0.49, 0.5, 0.7, 0.94, 0.95, 1.26, 1.37, 1.55, 1.75, 3.2, 6.98, 50.57]\n"
     ]
    },
    {
     "data": {
      "image/png": "[encoded data removed]",
      "text/plain": [
       "<Figure size 432x288 with 1 Axes>"
      ]
     },
     "metadata": {
      "needs_background": "light"
     },
     "output_type": "display_data"
    }
   ],
   "source": [
    "print(controlB) # The data for this graph.\n",
    "\n",
    "## Plots a replica of graph 1. The cumulative fraction of controlB. \n",
    "graph_1 = plt.hist(controlB, bins = 100, cumulative = True, density = True, histtype = \"step\")"
   ]
  },
  {
   "cell_type": "code",
   "execution_count": 5,
   "metadata": {
    "scrolled": true
   },
   "outputs": [
    {
     "name": "stdout",
     "output_type": "stream",
     "text": [
      "[0.08, 0.1, 0.15, 0.17, 0.24, 0.34, 0.38, 0.42, 0.49, 0.5, 0.7, 0.94, 0.95, 1.26, 1.37, 1.55, 1.75, 3.2, 6.98, 50.57]\n"
     ]
    },
    {
     "data": {
      "image/png": "[encoded data removed]",
      "text/plain": [
       "<Figure size 432x288 with 1 Axes>"
      ]
     },
     "metadata": {
      "needs_background": "light"
     },
     "output_type": "display_data"
    }
   ],
   "source": [
    "print(controlB) # The data for this graph. \n",
    "\n",
    "## Plots a replica of graph 2. Plots the cumulative fraction of logcontrolB on a log x axis scale.\n",
    "## X axis shows x as in 10^x. So -1 is the same as .1 in the KS-Test paper. \n",
    "graph_2 = plt.hist(np.log10(controlB), bins = 100, cumulative = True, density = True, histtype = \"step\")"
   ]
  },
  {
   "cell_type": "code",
   "execution_count": 6,
   "metadata": {},
   "outputs": [
    {
     "name": "stdout",
     "output_type": "stream",
     "text": [
      "[0.08, 0.1, 0.15, 0.17, 0.24, 0.34, 0.38, 0.42, 0.49, 0.5, 0.7, 0.94, 0.95, 1.26, 1.37, 1.55, 1.75, 3.2, 6.98, 50.57]\n",
      "[2.37, 2.16, 14.82, 1.73, 41.04, 0.23, 1.32, 2.91, 39.41, 0.11, 27.44, 4.51, 0.51, 4.5, 0.18, 14.68, 4.66, 1.3, 2.06, 1.19]\n",
      "Ks_2sampResult(statistic=0.45000000000000007, pvalue=0.023213275854449555)\n"
     ]
    },
    {
     "data": {
      "text/plain": [
       "<matplotlib.legend.Legend at 0x2c635246748>"
      ]
     },
     "execution_count": 6,
     "metadata": {},
     "output_type": "execute_result"
    },
    {
     "data": {
      "image/png": "[encoded data removed]",
      "text/plain": [
       "<Figure size 432x288 with 1 Axes>"
      ]
     },
     "metadata": {
      "needs_background": "light"
     },
     "output_type": "display_data"
    }
   ],
   "source": [
    "## The data for the following graph. \n",
    "print(controlB)\n",
    "print(treatment_b)\n",
    "\n",
    "## Runs and prints the KS-test for controlB and treatment_b. \n",
    "ks = stats.ks_2samp(controlB, treatment_b) \n",
    "print(ks)\n",
    "\n",
    "## Plots a replica of graph 3. The cumulative fraction of logcontrolB and the cumulative fraction of logtreatment_b on a log x axis scale. NEEDS TO BE FIXED. \n",
    "control_plot = plt.hist(np.log10(controlB), bins = 100, cumulative = True, density = True, histtype = \"step\")\n",
    "treatment_plot = plt.hist(np.log10(treatment_b), bins = 100, cumulative = True, density = True, histtype = \"step\")\n",
    "\n",
    "## Draws the vertical line between plots. \n",
    "plt.vlines(0, .2, .65, linewidth = 1, label = \"D\") \n",
    "plt.legend()"
   ]
  },
  {
   "cell_type": "code",
   "execution_count": 7,
   "metadata": {},
   "outputs": [
    {
     "name": "stdout",
     "output_type": "stream",
     "text": [
      "[-2.39, -1.79, -1.54, -1.1, -0.87, -0.74, -0.62, -0.5, -0.31, -0.17, -0.09, 0.15, 0.19, 0.22, 0.3, 0.37, 0.38, 1.28, 1.72, 2.3]\n",
      "Ks_2sampResult(statistic=0.44999999999999996, pvalue=0.023213275854449617)\n"
     ]
    },
    {
     "data": {
      "text/plain": [
       "<matplotlib.legend.Legend at 0x2c6352b5da0>"
      ]
     },
     "execution_count": 7,
     "metadata": {},
     "output_type": "execute_result"
    },
    {
     "data": {
      "image/png": "[encoded data removed]",
      "text/plain": [
       "<Figure size 432x288 with 1 Axes>"
      ]
     },
     "metadata": {
      "needs_background": "light"
     },
     "output_type": "display_data"
    }
   ],
   "source": [
    "## Data for the following graph.\n",
    "controlA = sorted(control_a)\n",
    "print(controlA)\n",
    "\n",
    "## Runs and prints the KS-Test for controlA and treatment_a. \n",
    "ks_a = stats.ks_2samp(controlA, treatment_a)\n",
    "print(ks_a)\n",
    "\n",
    "## Prints a replica of graph 4. X scale was generated automatically. \n",
    "control_a_plot = plt.hist(controlA, bins = 100, cumulative = True, density = True, histtype = \"step\") # group A has negative numbers. No log scale needed.\n",
    "treatment_a_plot = plt.hist(treatment_a, bins = 100, cumulative = True, density = True, histtype = \"step\")\n",
    "\n",
    "## Draws a vertical line at maximum vertical deviation.\n",
    "plt.vlines(2.31, 0.55, 1.0, linewidth = 1, label = \"D\")\n",
    "plt.legend()"
   ]
  },
  {
   "cell_type": "code",
   "execution_count": 13,
   "metadata": {},
   "outputs": [
    {
     "name": "stdout",
     "output_type": "stream",
     "text": [
      "[-1.26, -0.82, -0.45, 0.48, 1.11]\n",
      "-0.45\n"
     ]
    },
    {
     "ename": "TypeError",
     "evalue": "'int' object is not iterable",
     "output_type": "error",
     "traceback": [
      "\u001b[1;31m---------------------------------------------------------------------------\u001b[0m",
      "\u001b[1;31mTypeError\u001b[0m                                 Traceback (most recent call last)",
      "\u001b[1;32m<ipython-input-13-906e926a6f49>\u001b[0m in \u001b[0;36m<module>\u001b[1;34m\u001b[0m\n\u001b[0;32m      5\u001b[0m \u001b[1;33m\u001b[0m\u001b[0m\n\u001b[0;32m      6\u001b[0m \u001b[0mpercentiles\u001b[0m \u001b[1;33m=\u001b[0m \u001b[1;33m[\u001b[0m\u001b[1;33m]\u001b[0m\u001b[1;33m\u001b[0m\u001b[1;33m\u001b[0m\u001b[0m\n\u001b[1;32m----> 7\u001b[1;33m \u001b[1;32mfor\u001b[0m \u001b[0mi\u001b[0m \u001b[1;32min\u001b[0m \u001b[0mlen\u001b[0m\u001b[1;33m(\u001b[0m\u001b[0mdataD\u001b[0m\u001b[1;33m)\u001b[0m\u001b[1;33m+\u001b[0m\u001b[1;36m1\u001b[0m\u001b[1;33m:\u001b[0m\u001b[1;33m\u001b[0m\u001b[1;33m\u001b[0m\u001b[0m\n\u001b[0m\u001b[0;32m      8\u001b[0m     \u001b[0mr\u001b[0m \u001b[1;33m=\u001b[0m \u001b[0mdataD\u001b[0m\u001b[1;33m.\u001b[0m\u001b[0mindex\u001b[0m\u001b[1;33m(\u001b[0m\u001b[0mi\u001b[0m\u001b[1;33m)\u001b[0m\u001b[1;33m\u001b[0m\u001b[1;33m\u001b[0m\u001b[0m\n\u001b[0;32m      9\u001b[0m \u001b[0mpercentile\u001b[0m \u001b[1;33m=\u001b[0m \u001b[0mr\u001b[0m\u001b[1;33m/\u001b[0m\u001b[1;33m(\u001b[0m\u001b[0mlen\u001b[0m\u001b[1;33m(\u001b[0m\u001b[0mdataD\u001b[0m\u001b[1;33m)\u001b[0m\u001b[1;33m-\u001b[0m\u001b[1;36m1\u001b[0m\u001b[1;33m)\u001b[0m\u001b[1;33m\u001b[0m\u001b[1;33m\u001b[0m\u001b[0m\n",
      "\u001b[1;31mTypeError\u001b[0m: 'int' object is not iterable"
     ]
    }
   ],
   "source": [
    "data = [-0.45, 1.11, 0.48, -0.82, -1.26]\n",
    "dataD = sorted(data)\n",
    "print(dataD)\n",
    "print(np.median(dataD))\n",
    "\n",
    "percentiles = [] \n",
    "r = \n",
    "percentile = r/(len(dataD)-1)\n",
    "percentiles.append(percentile)"
   ]
  },
  {
   "cell_type": "code",
   "execution_count": null,
   "metadata": {},
   "outputs": [],
   "source": []
  }
 ],
 "metadata": {
  "kernelspec": {
   "display_name": "Python 3",
   "language": "python",
   "name": "python3"
  },
  "language_info": {
   "codemirror_mode": {
    "name": "ipython",
    "version": 3
   },
   "file_extension": ".py",
   "mimetype": "text/x-python",
   "name": "python",
   "nbconvert_exporter": "python",
   "pygments_lexer": "ipython3",
   "version": "3.7.3"
  }
 },
 "nbformat": 4,
 "nbformat_minor": 2
}
