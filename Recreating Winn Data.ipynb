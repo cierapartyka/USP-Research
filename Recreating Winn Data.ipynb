{
 "cells": [
  {
   "cell_type": "code",
   "execution_count": 1,
   "metadata": {},
   "outputs": [],
   "source": [
    "%matplotlib inline\n",
    "\n",
    "import numpy as np\n",
    "import matplotlib.pyplot as plt\n",
    "import scipy.stats as stats"
   ]
  },
  {
   "cell_type": "code",
   "execution_count": 2,
   "metadata": {},
   "outputs": [
    {
     "name": "stdout",
     "output_type": "stream",
     "text": [
      "[-0.11  0.1   0.11  0.31 -0.04  0.1   0.11 -0.04  0.03 -0.1  -0.08 -0.11\n",
      "  0.39 -0.07  0.17 -0.11  0.25  0.38  0.02  0.18  0.32  0.11  0.12  0.16\n",
      " -0.06  0.1  -0.59 -0.31 -0.07  0.25  0.2  -0.04  0.23  0.21  0.1  -0.01\n",
      "  0.   -0.08 -0.09 -0.01  0.    0.17  0.36  0.    0.13  0.14  0.18  0.2\n",
      " -0.01  0.07  0.11  0.25 -0.11  0.12 -0.12 -0.11  0.1   0.06  0.07  0.08\n",
      " -0.01  0.   -0.09  0.12]\n"
     ]
    },
    {
     "name": "stderr",
     "output_type": "stream",
     "text": [
      "C:\\Users\\Ciera\\Anaconda3\\lib\\site-packages\\ipykernel_launcher.py:11: VisibleDeprecationWarning: Reading unicode strings without specifying the encoding argument is deprecated. Set the encoding, use None for the system default.\n",
      "  # This is added back by InteractiveShellApp.init_path()\n"
     ]
    }
   ],
   "source": [
    "## USP Certain Metallicity\n",
    "\n",
    "filename = \"ajaa7b7ct1_ascii.csv\"\n",
    "\n",
    "uspdata = np.genfromtxt(filename, delimiter = \",\", skip_header = 5, \n",
    "                     names = [\"ID\", \"T_eff\", \"Teff_upper_unc\", \"Teff_lower_unc\", \n",
    "                               \"logg\", \"logg_upper_unc\", \"logg_lower_unc\", \n",
    "                               \"metal\", \"metal_upper_unc\", \"metal_lower_unc\", \n",
    "                               \"R_sstar\", \"R_sstar_upper_unc\", \"R_sstar_lower_unc\", \n",
    "                               \"M_sstar\", \"M_sstar_upper_unc\", \"M_sstar_lower_unc\", \n",
    "                               \"R_p\", \"R_p_upper_unc\", \"R_p_lower_unc\", \"P_orb\"], dtype=None)\n",
    "print(uspdata[\"metal\"])"
   ]
  },
  {
   "cell_type": "code",
   "execution_count": 3,
   "metadata": {},
   "outputs": [
    {
     "name": "stdout",
     "output_type": "stream",
     "text": [
      "[ 0.01  0.31  0.17  0.34  0.2   0.23  0.35  0.25  0.32  0.3   0.18 -0.16\n",
      "  0.35  0.31  0.39  0.32  0.04  0.09  0.2   0.22  0.3   0.07  0.03]\n"
     ]
    },
    {
     "name": "stderr",
     "output_type": "stream",
     "text": [
      "C:\\Users\\Ciera\\Anaconda3\\lib\\site-packages\\ipykernel_launcher.py:11: VisibleDeprecationWarning: Reading unicode strings without specifying the encoding argument is deprecated. Set the encoding, use None for the system default.\n",
      "  # This is added back by InteractiveShellApp.init_path()\n"
     ]
    }
   ],
   "source": [
    "## Hot Jupiter Certain Metallicity\n",
    "\n",
    "filename = \"ajaa7b7ct2_ascii.csv\"\n",
    "\n",
    "hjdata = np.genfromtxt(filename, delimiter = \",\", skip_header = 5, \n",
    "                     names = [\"ID\", \"T_eff\", \"Teff_upper_unc\", \"Teff_lower_unc\", \n",
    "                               \"logg\", \"logg_upper_unc\", \"logg_lower_unc\", \n",
    "                               \"metal\", \"metal_upper_unc\", \"metal_lower_unc\", \n",
    "                               \"R_sstar\", \"R_sstar_upper_unc\", \"R_sstar_lower_unc\", \n",
    "                               \"M_sstar\", \"M_sstar_upper_unc\", \"M_sstar_lower_unc\", \n",
    "                               \"R_p\", \"R_p_upper_unc\", \"R_p_lower_unc\", \"P_orb\"], dtype=None)\n",
    "print(hjdata[\"metal\"])"
   ]
  },
  {
   "cell_type": "code",
   "execution_count": 5,
   "metadata": {},
   "outputs": [
    {
     "name": "stdout",
     "output_type": "stream",
     "text": [
      "Ks_2sampResult(statistic=0.4891304347826087, pvalue=0.0003385798336526295)\n"
     ]
    },
    {
     "data": {
      "text/plain": [
       "<matplotlib.legend.Legend at 0x15c3d9c99b0>"
      ]
     },
     "execution_count": 5,
     "metadata": {},
     "output_type": "execute_result"
    },
    {
     "data": {
      "image/png": "[encoded data removed]",
      "text/plain": [
       "<Figure size 432x288 with 1 Axes>"
      ]
     },
     "metadata": {
      "needs_background": "light"
     },
     "output_type": "display_data"
    }
   ],
   "source": [
    "## Attempt B. Hot Jupiter's minimum bin is -.15\n",
    "## Fiddled with the bin sizes so that it matches up with the figure in his paper. That's the source of confusion. \n",
    "## Blue USP \n",
    "usp_metal_graph = plt.hist(uspdata[\"metal\"], bins = [-.59, -.49, -.39, -.29, -.19, -.09, .02, .12, .21, .32, .41], density = True, histtype = \"bar\", label = \"USP Planets\")\n",
    "\n",
    "## Orange HJ\n",
    "hj_metal_graph = plt.hist(hjdata[\"metal\"], bins = [-.16, -.06, .05, .13, .24, .34, .44], density = True, histtype = \"step\", label = \"Hot Jupiters\")\n",
    "\n",
    "## KS-Test for USP and HJ metalicity\n",
    "ks = stats.ks_2samp(uspdata[\"metal\"], hjdata[\"metal\"])\n",
    "print(ks)\n",
    "plt.ylabel(\"Normalized Histogram Density\")\n",
    "plt.xlabel(\"Stellar Metallicity\")\n",
    "plt.title(\"Metallicity Distribution\")\n",
    "plt.legend()"
   ]
  },
  {
   "cell_type": "code",
   "execution_count": null,
   "metadata": {},
   "outputs": [],
   "source": []
  }
 ],
 "metadata": {
  "kernelspec": {
   "display_name": "Python 3",
   "language": "python",
   "name": "python3"
  },
  "language_info": {
   "codemirror_mode": {
    "name": "ipython",
    "version": 3
   },
   "file_extension": ".py",
   "mimetype": "text/x-python",
   "name": "python",
   "nbconvert_exporter": "python",
   "pygments_lexer": "ipython3",
   "version": "3.7.3"
  }
 },
 "nbformat": 4,
 "nbformat_minor": 2
}
