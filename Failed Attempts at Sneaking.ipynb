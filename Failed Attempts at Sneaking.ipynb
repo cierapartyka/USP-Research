{
 "cells": [
  {
   "cell_type": "code",
   "execution_count": null,
   "metadata": {},
   "outputs": [],
   "source": [
    "## Sneaking bootstrapped Hot Jupiters into bootstrapped USP data \n",
    "\n",
    "## I should probably make this a function \n",
    "\n",
    "## I need another for loop somewhere because I need an array of ks-values. I need to resample the lists after I swap elements.\n",
    "\n",
    "########################################################### V Attempt 1 V \n",
    "\n",
    "\n",
    "this_many_elements = 2\n",
    "sneaky_ks_list = []\n",
    "\n",
    "hj_index_list = [] \n",
    "usp_index_list = []\n",
    "\n",
    "for elem in range(this_many_elements):\n",
    "    \n",
    "    hj_index = np.random.randint(0, len(hjdata))\n",
    "    hj_index_list.append(hj_index)\n",
    "    \n",
    "    usp_index = np.random.randint(0, len(uspdata))\n",
    "    usp_index_list.append(usp_index)\n",
    "\n",
    "    hj_choice = np.random.choice(hj_bootstrap, size = this_many_elements, replace = True)\n",
    "    usp_choice = np.random.choice(usp_bootstrap, size = this_many_elements, replace = True)\n",
    "\n",
    "    usp_bootstrap = np.delete(usp_bootstrap, usp_bootstrap[usp_index_list[elem]])\n",
    "    usp_bootstrap = np.append(usp_bootstrap, hj_choice)\n",
    "\n",
    "    hj_bootstrap = np.delete(hj_bootstrap, hj_bootstrap[hj_index_list[elem]])\n",
    "    hj_bootstrap = np.append(hj_bootstrap, usp_choice)\n",
    "\n",
    "    _, pvalue = stats.ks_2samp(usp_bootstrap, hj_bootstrap)\n",
    "    sneaky_ks_list.append(pvalue)\n",
    "\n",
    "print(len(sneaky_ks_list))\n",
    "print(sneaky_ks_list)\n",
    "\n",
    "############################################################ ^ Attempt 1 ^ "
   ]
  },
  {
   "cell_type": "code",
   "execution_count": null,
   "metadata": {},
   "outputs": [],
   "source": [
    "############################################################# v Attempt 2 v\n",
    "# Replace USP's with HJ, then compare that new synthetic USP array with old USP array\n",
    "\n",
    "# Must use np.choice for the replace argument\n",
    "\n",
    "def replace(array1, array2, this_many_elements):\n",
    "    \n",
    "    for number in range(this_many_elements):\n",
    "        \n",
    "        # Select a single random element from each array\n",
    "        rand1 = np.random.choice(array1, size = this_many_elements, replace = True)  # Keep HJ first\n",
    "        rand2 = np.random.choice(array2, size = this_many_elements, replace = False) # And USPs second\n",
    "        \n",
    "        # Find the element's indices\n",
    "        index1 = array1.index(rand1)\n",
    "        index2 = array2.index(rand2)\n",
    "        \n",
    "        # Replace one element \n",
    "        array1[index1] = array2[index1]"
   ]
  },
  {
   "cell_type": "code",
   "execution_count": null,
   "metadata": {},
   "outputs": [],
   "source": [
    "this_many_elements = 1\n",
    "this_many_times = 1\n",
    "\n",
    "for i in range(len(hjmetal)):\n",
    "    replace(hjmetal, uspmetal, this_many_elements)\n",
    "    \n",
    "    ks_scores = [] \n",
    "    for k in range(this_many_times):\n",
    "        bootstrap_usp = bootstrap_resample(uspmetal, uspdata[\"metal_lower_unc\"], uspdata[\"metal_upper_unc\"])\n",
    "        bootstrap_hj = bootstrap_resample(hjmetal, hjdata[\"metal_lower_unc\"], hjdata[\"metal_upper_unc\"])\n",
    "        _, pvalue = stats.ks_2samp(bootstrap_usp, bootstrap_hj)\n",
    "        ks_scores.append(pvalue)\n",
    "    # Plot a graph after each time you swapped     \n",
    "    ks_scores_graph = plt.hist(ks_scores, bins = 100, density = True, histtype = \"step\", log=True)\n",
    "    \n",
    "######################################################### ^ Attempt 2 ^ "
   ]
  },
  {
   "cell_type": "code",
   "execution_count": null,
   "metadata": {},
   "outputs": [],
   "source": []
  }
 ],
 "metadata": {
  "kernelspec": {
   "display_name": "Python 3",
   "language": "python",
   "name": "python3"
  },
  "language_info": {
   "codemirror_mode": {
    "name": "ipython",
    "version": 3
   },
   "file_extension": ".py",
   "mimetype": "text/x-python",
   "name": "python",
   "nbconvert_exporter": "python",
   "pygments_lexer": "ipython3",
   "version": "3.7.3"
  }
 },
 "nbformat": 4,
 "nbformat_minor": 2
}
