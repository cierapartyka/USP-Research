{
 "cells": [
  {
   "cell_type": "code",
   "execution_count": 1,
   "metadata": {},
   "outputs": [],
   "source": [
    "%matplotlib inline\n",
    "\n",
    "import numpy as np\n",
    "import matplotlib.pyplot as plt\n",
    "import scipy.stats as stats\n",
    "import statistics"
   ]
  },
  {
   "cell_type": "code",
   "execution_count": 2,
   "metadata": {
    "scrolled": true
   },
   "outputs": [
    {
     "name": "stdout",
     "output_type": "stream",
     "text": [
      "[-0.11  0.1   0.11  0.31 -0.04  0.1   0.11 -0.04  0.03 -0.1  -0.08 -0.11\n",
      "  0.39 -0.07  0.17 -0.11  0.25  0.38  0.02  0.18  0.32  0.11  0.12  0.16\n",
      " -0.06  0.1  -0.59 -0.31 -0.07  0.25  0.2  -0.04  0.23  0.21  0.1  -0.01\n",
      "  0.   -0.08 -0.09 -0.01  0.    0.17  0.36  0.    0.13  0.14  0.18  0.2\n",
      " -0.01  0.07  0.11  0.25 -0.11  0.12 -0.12 -0.11  0.1   0.06  0.07  0.08\n",
      " -0.01  0.   -0.09  0.12]\n",
      "[0.04 0.04 0.04 0.04 0.04 0.04 0.04 0.04 0.04 0.04 0.04 0.04 0.04 0.04\n",
      " 0.04 0.04 0.04 0.04 0.04 0.04 0.04 0.04 0.04 0.04 0.04 0.04 0.04 0.04\n",
      " 0.04 0.04 0.04 0.04 0.04 0.04 0.04 0.04 0.04 0.04 0.04 0.04 0.04 0.04\n",
      " 0.04 0.04 0.04 0.04 0.04 0.04 0.04 0.04 0.04 0.04 0.04 0.04 0.04 0.04\n",
      " 0.04 0.04 0.04 0.04 0.04 0.04 0.04 0.04]\n",
      "[0.04 0.04 0.04 0.04 0.04 0.04 0.04 0.04 0.04 0.04 0.04 0.04 0.04 0.04\n",
      " 0.04 0.04 0.04 0.04 0.04 0.04 0.04 0.04 0.04 0.04 0.04 0.04 0.04 0.04\n",
      " 0.04 0.04 0.04 0.04 0.04 0.04 0.04 0.04 0.04 0.04 0.04 0.04 0.04 0.04\n",
      " 0.04 0.04 0.04 0.04 0.04 0.04 0.04 0.04 0.04 0.04 0.04 0.04 0.04 0.04\n",
      " 0.04 0.04 0.04 0.04 0.04 0.04 0.04 0.04]\n",
      "\n",
      "64\n"
     ]
    },
    {
     "name": "stderr",
     "output_type": "stream",
     "text": [
      "C:\\Users\\Ciera\\Anaconda3\\lib\\site-packages\\ipykernel_launcher.py:11: VisibleDeprecationWarning: Reading unicode strings without specifying the encoding argument is deprecated. Set the encoding, use None for the system default.\n",
      "  # This is added back by InteractiveShellApp.init_path()\n"
     ]
    }
   ],
   "source": [
    "## USP Certain Metallicity\n",
    "\n",
    "filename = \"ajaa7b7ct1_ascii.csv\"\n",
    "\n",
    "uspdata = np.genfromtxt(filename, delimiter = \",\", skip_header = 5, \n",
    "                     names = [\"ID\", \"T_eff\", \"Teff_upper_unc\", \"Teff_lower_unc\", \n",
    "                               \"logg\", \"logg_upper_unc\", \"logg_lower_unc\", \n",
    "                               \"metal\", \"metal_upper_unc\", \"metal_lower_unc\", \n",
    "                               \"R_sstar\", \"R_sstar_upper_unc\", \"R_sstar_lower_unc\", \n",
    "                               \"M_sstar\", \"M_sstar_upper_unc\", \"M_sstar_lower_unc\", \n",
    "                               \"R_p\", \"R_p_upper_unc\", \"R_p_lower_unc\", \"P_orb\"], dtype=None)\n",
    "print(uspdata[\"metal\"])\n",
    "print(uspdata[\"metal_upper_unc\"])\n",
    "print(uspdata[\"metal_lower_unc\"])\n",
    "print()\n",
    "print(len(uspdata[\"metal\"]))"
   ]
  },
  {
   "cell_type": "code",
   "execution_count": 3,
   "metadata": {},
   "outputs": [
    {
     "name": "stdout",
     "output_type": "stream",
     "text": [
      "[ 0.01  0.31  0.17  0.34  0.2   0.23  0.35  0.25  0.32  0.3   0.18 -0.16\n",
      "  0.35  0.31  0.39  0.32  0.04  0.09  0.2   0.22  0.3   0.07  0.03]\n",
      "\n",
      "23\n"
     ]
    },
    {
     "name": "stderr",
     "output_type": "stream",
     "text": [
      "C:\\Users\\Ciera\\Anaconda3\\lib\\site-packages\\ipykernel_launcher.py:11: VisibleDeprecationWarning: Reading unicode strings without specifying the encoding argument is deprecated. Set the encoding, use None for the system default.\n",
      "  # This is added back by InteractiveShellApp.init_path()\n"
     ]
    }
   ],
   "source": [
    "## Hot Jupiter Certain Metallicity\n",
    "\n",
    "filename = \"ajaa7b7ct2_ascii.csv\"\n",
    "\n",
    "hjdata = np.genfromtxt(filename, delimiter = \",\", skip_header = 5, \n",
    "                     names = [\"ID\", \"T_eff\", \"Teff_upper_unc\", \"Teff_lower_unc\", \n",
    "                               \"logg\", \"logg_upper_unc\", \"logg_lower_unc\", \n",
    "                               \"metal\", \"metal_upper_unc\", \"metal_lower_unc\", \n",
    "                               \"R_sstar\", \"R_sstar_upper_unc\", \"R_sstar_lower_unc\", \n",
    "                               \"M_sstar\", \"M_sstar_upper_unc\", \"M_sstar_lower_unc\", \n",
    "                               \"R_p\", \"R_p_upper_unc\", \"R_p_lower_unc\", \"P_orb\"], dtype=None)\n",
    "print(hjdata[\"metal\"])\n",
    "print()\n",
    "print(len(hjdata[\"metal\"]))"
   ]
  },
  {
   "cell_type": "code",
   "execution_count": 4,
   "metadata": {},
   "outputs": [
    {
     "name": "stdout",
     "output_type": "stream",
     "text": [
      "64\n",
      "23\n",
      "1000\n"
     ]
    }
   ],
   "source": [
    "this_many_times = 1000\n",
    "ks_list = []\n",
    "\n",
    "for number in range(this_many_times):\n",
    "    \n",
    "    usp_bootstrap_result_list = []\n",
    "    hj_bootstrap_result_list = []\n",
    "\n",
    "## USP Resampling\n",
    "    for data_point in uspdata[\"metal\"]:\n",
    "        rand_result = np.random.uniform(-0.04, 0.041)\n",
    "        usp_bootstrap_data_point = data_point+rand_result\n",
    "        usp_bootstrap_result_list.append(usp_bootstrap_data_point)\n",
    "\n",
    "## HJ Resampling\n",
    "    for data_point in hjdata[\"metal\"]:\n",
    "        rand_result = np.random.uniform(-0.04, 0.041)\n",
    "        hj_bootstrap_data_point = data_point + rand_result\n",
    "        hj_bootstrap_result_list.append(hj_bootstrap_data_point)\n",
    "\n",
    "## KS Test on those lists\n",
    "    _, pvalue = stats.ks_2samp(usp_bootstrap_result_list, hj_bootstrap_result_list)\n",
    "    ks_list.append(pvalue)\n",
    "    \n",
    "print(len(usp_bootstrap_result_list)) \n",
    "print(len(hj_bootstrap_result_list))\n",
    "print(len(ks_list))"
   ]
  },
  {
   "cell_type": "code",
   "execution_count": 5,
   "metadata": {
    "scrolled": true
   },
   "outputs": [
    {
     "data": {
      "text/plain": [
       "<matplotlib.legend.Legend at 0x283e2a39400>"
      ]
     },
     "execution_count": 5,
     "metadata": {},
     "output_type": "execute_result"
    },
    {
     "data": {
      "image/png": "[encoded data removed]",
      "text/plain": [
       "<Figure size 432x288 with 1 Axes>"
      ]
     },
     "metadata": {
      "needs_background": "light"
     },
     "output_type": "display_data"
    }
   ],
   "source": [
    "ks_graph = plt.hist(ks_list, bins = \"auto\", density = True, histtype = \"step\", log=True)\n",
    "vertical_line = plt.vlines(.0003, 0, 3500, colors = \"r\", linewidth = 1, label = \"P = 0.0003\")\n",
    "plt.legend()"
   ]
  },
  {
   "cell_type": "code",
   "execution_count": 6,
   "metadata": {},
   "outputs": [],
   "source": [
    "## Changing some lists to arrays\n",
    "\n",
    "usp_bootstrap_result_array = np.asarray(usp_bootstrap_result_list)\n",
    "hj_bootstrap_result_array = np.asarray(hj_bootstrap_result_list)"
   ]
  },
  {
   "cell_type": "code",
   "execution_count": 7,
   "metadata": {},
   "outputs": [
    {
     "name": "stdout",
     "output_type": "stream",
     "text": [
      "Elems in usp array: 64\n",
      "Elems in usp post deletion: 63\n",
      "Elems in usp post replacement with a hj: 64\n",
      "Elems in gaussian error hj list after all that: 23\n",
      "\n",
      "[ 0.12655025  0.09286792  0.32286496 -0.0265454   0.10193601  0.08472629\n",
      " -0.03616018  0.04050869 -0.131739   -0.0481112  -0.13300495  0.38315496\n",
      " -0.09135327  0.20382543 -0.11869325  0.23810545  0.38346211 -0.00637977\n",
      "  0.1743066   0.31638419  0.1306404   0.12742612  0.18315487 -0.02537293\n",
      "  0.08596842 -0.56545572 -0.34083945 -0.05364468  0.2416279   0.16753173\n",
      " -0.06132272  0.20270785  0.17259299  0.12610881 -0.02937629  0.02494664\n",
      " -0.07860647 -0.06503538 -0.0096255  -0.01497335  0.18345096  0.37511924\n",
      " -0.00773522  0.14320541  0.11811672  0.17737182  0.2151247  -0.00343369\n",
      "  0.04103892  0.13317889  0.26545709 -0.12917887  0.13656656 -0.15264723\n",
      " -0.09843331  0.12956787  0.05667431  0.05638342  0.04721373 -0.02147114\n",
      " -0.03632327 -0.07779284  0.09003869  0.18657418]\n",
      "\n",
      "[-0.00104552  0.28247493  0.18657418  0.36208826  0.22905792  0.24744719\n",
      "  0.37196365  0.24354105  0.30846915  0.26698627  0.15157118 -0.13884927\n",
      "  0.35268589  0.27038794  0.37927814  0.29846259  0.0054309   0.09483087\n",
      "  0.22614524  0.19261942  0.28599524  0.07795078  0.06255563]\n"
     ]
    },
    {
     "name": "stderr",
     "output_type": "stream",
     "text": [
      "C:\\Users\\Ciera\\Anaconda3\\lib\\site-packages\\ipykernel_launcher.py:12: DeprecationWarning: using a non-integer array as obj in delete will result in an error in the future\n",
      "  if sys.path[0] == '':\n"
     ]
    }
   ],
   "source": [
    "## Sneaking Gaussian error'd HJ metallicity data points into the USP metallicity data.\n",
    "\n",
    "\n",
    "#Using the hj_bootstrap_result_array because we want gauss-error'd hj data\n",
    "print(\"Elems in usp array: \" + str(len(usp_bootstrap_result_array)))\n",
    "\n",
    "## SPECIFIC ELEMENTS MOVED (not just added) FROM GAUSSIAN HJ TO USP\n",
    "this_many_elems = 1\n",
    "usp_elem = np.random.choice(usp_bootstrap_result_array, this_many_elems)\n",
    "hj_elem = np.random.choice(hj_bootstrap_result_array, this_many_elems)\n",
    "\n",
    "usp_bootstrap_result_array = np.delete(usp_bootstrap_result_array, usp_elem)\n",
    "print(\"Elems in usp post deletion: \" + str(len(usp_bootstrap_result_array)))\n",
    "\n",
    "usp_bootstrap_result_array = np.append(usp_bootstrap_result_array, hj_elem)\n",
    "print(\"Elems in usp post replacement with a hj: \" + str(len(usp_bootstrap_result_array)))\n",
    "\n",
    "\n",
    "print(\"Elems in gaussian error hj list after all that: \" + str(len(hj_bootstrap_result_array)))\n",
    "print()\n",
    "print(usp_bootstrap_result_array)\n",
    "print()\n",
    "print(hj_bootstrap_result_array)"
   ]
  },
  {
   "cell_type": "code",
   "execution_count": 8,
   "metadata": {
    "scrolled": true
   },
   "outputs": [
    {
     "name": "stdout",
     "output_type": "stream",
     "text": [
      "64\n",
      "23\n",
      "1000\n"
     ]
    }
   ],
   "source": [
    "## \"THOUSAND TIMES\" PROCESS POST SNEAKING HJ INTO USP    ## This is the second time we're resampling. Wouldn't we now have an uncertainty^2? \n",
    "## No need to resample the HJ's again, since we didn't change them\n",
    "\n",
    "this_many_times = 1000\n",
    "sneaky_ks_list = []\n",
    "\n",
    "for number in range(this_many_times):\n",
    "    \n",
    "    sneaky_usp_bootstrap_result_list = []\n",
    "    \n",
    "## USP Resampling post sneaking\n",
    "    for data_point in usp_bootstrap_result_array:\n",
    "        rand_result = np.random.uniform(-0.04, 0.041)\n",
    "        usp_bootstrap_data_point = data_point+rand_result\n",
    "        sneaky_usp_bootstrap_result_list.append(usp_bootstrap_data_point)\n",
    "\n",
    "        \n",
    "## KS Test on sneaky_usp_bootstrap and gaussian error'd hj's\n",
    "    _, pvalue = stats.ks_2samp(sneaky_usp_bootstrap_result_list, hj_bootstrap_result_array)\n",
    "    sneaky_ks_list.append(pvalue)\n",
    "    \n",
    "sneaky_usp_bootstrap_result_array = np.asarray(sneaky_usp_bootstrap_result_list)\n",
    "print(len(sneaky_usp_bootstrap_result_array)) \n",
    "print(len(hj_bootstrap_result_array))\n",
    "print(len(sneaky_ks_list))"
   ]
  },
  {
   "cell_type": "code",
   "execution_count": 9,
   "metadata": {},
   "outputs": [
    {
     "name": "stdout",
     "output_type": "stream",
     "text": [
      "Maximum: 0.0027032089542467245\n",
      "Median: 0.00019269215512900245\n",
      "Mode: 0.00019269215512900245\n"
     ]
    },
    {
     "data": {
      "text/plain": [
       "Text(0.5, 1.0, 'Original KS-Test Graph')"
      ]
     },
     "execution_count": 9,
     "metadata": {},
     "output_type": "execute_result"
    },
    {
     "data": {
      "image/png": "[encoded data removed]",
      "text/plain": [
       "<Figure size 432x288 with 1 Axes>"
      ]
     },
     "metadata": {
      "needs_background": "light"
     },
     "output_type": "display_data"
    }
   ],
   "source": [
    "## Original ks_graph printed again for comparison\n",
    "ks_graph = plt.hist(ks_list, bins = \"auto\", density = True, histtype = \"step\", log=True)\n",
    "\n",
    "print(\"Maximum: \" + str(max(ks_list)))\n",
    "print(\"Median: \" + str(statistics.median(ks_list)))\n",
    "ks_mode = statistics.mode(ks_list)\n",
    "print(\"Mode: \" + str(ks_mode))\n",
    "\n",
    "winn_p_value = plt.vlines(.0003, 0, 3500, colors = \"r\", linewidth = 1, label = \"P = 0.0003\")\n",
    "max_line = plt.vlines(max(ks_list), 0, 3500, colors = \"black\", linewidth = 1, label = \"Max = \"+str(max(ks_list)))\n",
    "med_line = plt.vlines(statistics.median(ks_list), 0, 3500, colors = \"orange\", linewidth = 1, label = \"Median = \"+str(statistics.median(ks_list)))\n",
    "mode_line = plt.vlines(ks_mode, 0, 3500, colors = \"g\", linewidth = 1, label = \"Mode = \" + str(ks_mode))\n",
    "\n",
    "plt.legend()\n",
    "plt.title(\"Original KS-Test Graph\")"
   ]
  },
  {
   "cell_type": "code",
   "execution_count": 10,
   "metadata": {},
   "outputs": [
    {
     "name": "stdout",
     "output_type": "stream",
     "text": [
      "Maximum: 0.0014802265867766853\n",
      "Median: 0.0002827756088679412\n",
      "Mode: 0.00019269215512900245\n"
     ]
    },
    {
     "data": {
      "text/plain": [
       "Text(0.5, 1.0, '1 HJ Data Points Moved to USP Data\\nScale Adjusted for Readability')"
      ]
     },
     "execution_count": 10,
     "metadata": {},
     "output_type": "execute_result"
    },
    {
     "data": {
      "image/png": "[encoded data removed]",
      "text/plain": [
       "<Figure size 432x288 with 1 Axes>"
      ]
     },
     "metadata": {
      "needs_background": "light"
     },
     "output_type": "display_data"
    }
   ],
   "source": [
    "## Graph post sneaky hj data points\n",
    "sneaky_ks_graph = plt.hist(sneaky_ks_list, bins = \"auto\", density = True, histtype = \"step\", log=True)\n",
    "\n",
    "print(\"Maximum: \" + str(max(sneaky_ks_list)))\n",
    "print(\"Median: \" + str(statistics.median(sneaky_ks_list)))\n",
    "sneaky_ks_mode = statistics.mode(ks_list)\n",
    "print(\"Mode: \" + str(sneaky_ks_mode))\n",
    "\n",
    "winn_p_value = plt.vlines(.0003, 0, 3500, colors = \"r\", linewidth = 1, label = \"P = 0.0003\")\n",
    "max_line = plt.vlines(max(sneaky_ks_list), 0, 3500, colors = \"black\", linewidth = 1, label = \"Max = \"+str(max(sneaky_ks_list)))\n",
    "med_line = plt.vlines(statistics.median(sneaky_ks_list), 0, 3500, colors = \"orange\", linewidth = 1, label = \"Median = \"+str(statistics.median(sneaky_ks_list)))\n",
    "mode_line = plt.vlines(sneaky_ks_mode, 0, 3500, colors = \"g\", linewidth = 1, label = \"Mode = \" + str(sneaky_ks_mode))\n",
    "\n",
    "plt.legend()\n",
    "title_string = str(this_many_elems) + \" HJ Data Points Moved to USP Data\\nScale Adjusted for Readability\"\n",
    "plt.title(title_string)"
   ]
  }
 ],
 "metadata": {
  "kernelspec": {
   "display_name": "Python 3",
   "language": "python",
   "name": "python3"
  },
  "language_info": {
   "codemirror_mode": {
    "name": "ipython",
    "version": 3
   },
   "file_extension": ".py",
   "mimetype": "text/x-python",
   "name": "python",
   "nbconvert_exporter": "python",
   "pygments_lexer": "ipython3",
   "version": "3.7.3"
  }
 },
 "nbformat": 4,
 "nbformat_minor": 2
}
